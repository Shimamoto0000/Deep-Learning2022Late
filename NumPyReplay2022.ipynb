{
  "nbformat": 4,
  "nbformat_minor": 0,
  "metadata": {
    "colab": {
      "provenance": [],
      "authorship_tag": "ABX9TyPi8oxnsfnbycOUH3Mw9dpy",
      "include_colab_link": true
    },
    "kernelspec": {
      "name": "python3",
      "display_name": "Python 3"
    },
    "language_info": {
      "name": "python"
    }
  },
  "cells": [
    {
      "cell_type": "markdown",
      "metadata": {
        "id": "view-in-github",
        "colab_type": "text"
      },
      "source": [
        "<a href=\"https://colab.research.google.com/github/Shimamoto0000/Deep-Learning2022Late/blob/main/NumPyReplay2022.ipynb\" target=\"_parent\"><img src=\"https://colab.research.google.com/assets/colab-badge.svg\" alt=\"Open In Colab\"/></a>"
      ]
    },
    {
      "cell_type": "markdown",
      "source": [
        "## numpyを使用する"
      ],
      "metadata": {
        "id": "Y8frp_zjhSxK"
      }
    },
    {
      "cell_type": "code",
      "source": [
        "import numpy as np"
      ],
      "metadata": {
        "id": "sav1mPJZhZ5J"
      },
      "execution_count": 1,
      "outputs": []
    },
    {
      "cell_type": "markdown",
      "source": [
        "## 配列（アレイ）を作る"
      ],
      "metadata": {
        "id": "dAVo2I6RhcJc"
      }
    },
    {
      "cell_type": "code",
      "source": [
        "\n",
        "\n",
        "x = np.array([1.0, 2.0, 3.0, 4.0, 5.0])\n",
        "print (x)\n",
        "# array() は、 Pythonのリストを渡すことでNumPy 用の配列 (numpy.ndarray) を生成します。\n",
        "x = np.array([1,2,3])\n",
        "print(x) # [1 2 3] \n",
        "print(type(x)) # <class 'numpy.ndarray\">\n",
        "my_list1 = [1,2,3,4,5]\n",
        "my_array = np.array(my_list1) # numpyDarray 13\n",
        "my_list2 = [10,20,30,40,50]\n",
        "my_lists = [my_list1, my_list2] # UZHOU3. my_lists # [[1, 2, 3, 4, 5], [10, 20, 30, 40, 50]] # リストのリストが完成\n",
        "#my_lists を使って NumPyのアレイを使る。 (多次元配列を作る) \n",
        "my_array2 = np.array(my_lists)\n",
        "my_array2 # 2行5列の配列ができる。\n",
        "\"\"\"\n",
        "array([[ 1, 2, 3, 4, 5], \n",
        "       [10, 20, 30, 40, 50]])\n",
        "\"\"\"\n",
        "#次のように、タプルを複数渡すとエラーになってしまいます。\n",
        "# np.array((1,2,3), (4,5,6))\n",
        "\n",
        "\"\"\"\n",
        "Traceback (most recent call last):\n",
        "    File \"<stdin>\", line 1, in <module> \n",
        "    TypeError: data type not understood\n",
        "\n",
        "\"\"\""
      ],
      "metadata": {
        "colab": {
          "base_uri": "https://localhost:8080/",
          "height": 108
        },
        "id": "qfljoWwKhhYi",
        "outputId": "ea558ae9-8595-485a-a540-2d2f932365e5"
      },
      "execution_count": 2,
      "outputs": [
        {
          "output_type": "stream",
          "name": "stdout",
          "text": [
            "[1. 2. 3. 4. 5.]\n",
            "[1 2 3]\n",
            "<class 'numpy.ndarray'>\n"
          ]
        },
        {
          "output_type": "execute_result",
          "data": {
            "text/plain": [
              "'\\nTraceback (most recent call last):\\n    File \"<stdin>\", line 1, in <module> \\n    TypeError: data type not understood\\n\\n'"
            ],
            "application/vnd.google.colaboratory.intrinsic+json": {
              "type": "string"
            }
          },
          "metadata": {},
          "execution_count": 2
        }
      ]
    },
    {
      "cell_type": "markdown",
      "source": [
        "## numpy配列の形状を調べる"
      ],
      "metadata": {
        "id": "Qlx4DuzhhjH6"
      }
    },
    {
      "cell_type": "code",
      "source": [
        "a = np.array([1,2,3,4])\n",
        "a.shape # (4) が出力される。 これは1次元配列でかつ、4つ要素があることを意味します。\n",
        "b = np.array([[1,2],[3,4]]) \n",
        "b.shape # (22) これは行列で、 2行2列を意味しています。"
      ],
      "metadata": {
        "colab": {
          "base_uri": "https://localhost:8080/"
        },
        "id": "ElaHPYOahoBJ",
        "outputId": "ab1bebd1-ce7b-4891-993c-c191c724b78e"
      },
      "execution_count": 3,
      "outputs": [
        {
          "output_type": "execute_result",
          "data": {
            "text/plain": [
              "(2, 2)"
            ]
          },
          "metadata": {},
          "execution_count": 3
        }
      ]
    },
    {
      "cell_type": "markdown",
      "source": [
        "## 配列の生成 arange()"
      ],
      "metadata": {
        "id": "dhFfdLOxhvhJ"
      }
    },
    {
      "cell_type": "code",
      "source": [
        "# データの準備\n",
        "# 等間隔の数字\n",
        "# 0から9までの数字(配列) を生成\n",
        "x = np.arange (10)\n",
        "print(x)\n",
        "# reshape()は配列を形状に変換します\n",
        "x = np.arange(1, 10).reshape(3,3) #3×3の多次元配列に変換 \n",
        "y = np.arange(1, 10).reshape(3,3) # 3×3の多次元配列に変換\n",
        "\n",
        "\"\"\"\n",
        "xを下記のように書き換えることも可能 \n",
        "x = np.reshape(x, (3,3))\n",
        "\"\"\"\n",
        "print(x)\n",
        "print(y)\n",
        "\n",
        "print(x + y)\n",
        "print(x - y)\n",
        "print(x * y)\n"
      ],
      "metadata": {
        "colab": {
          "base_uri": "https://localhost:8080/"
        },
        "id": "rX3tuh1ThwUd",
        "outputId": "0873f50c-9a8d-45cb-9e96-91f93cdd0332"
      },
      "execution_count": 5,
      "outputs": [
        {
          "output_type": "stream",
          "name": "stdout",
          "text": [
            "[0 1 2 3 4 5 6 7 8 9]\n",
            "[[1 2 3]\n",
            " [4 5 6]\n",
            " [7 8 9]]\n",
            "[[1 2 3]\n",
            " [4 5 6]\n",
            " [7 8 9]]\n",
            "[[ 2  4  6]\n",
            " [ 8 10 12]\n",
            " [14 16 18]]\n",
            "[[0 0 0]\n",
            " [0 0 0]\n",
            " [0 0 0]]\n",
            "[[ 1  4  9]\n",
            " [16 25 36]\n",
            " [49 64 81]]\n"
          ]
        }
      ]
    },
    {
      "cell_type": "markdown",
      "source": [
        "## 配列操作"
      ],
      "metadata": {
        "id": "HbHWFr6Oh0ds"
      }
    },
    {
      "cell_type": "code",
      "source": [
        "sample_array = np.arange(10)\n",
        "print(sample_array)\n",
        "# reshapeを使って配列の形状を指定\n",
        "sample_array2 = sample_array.reshape(2,5) \n",
        "print (sample_array2) #array(([0,1,2,3,4],[5,6,7,8,9]])\n",
        "# concatenateを使って、 データの結合する (axisで行方向か、 縦方向を指定可能) \n",
        "sample_array3 = np.array([[1,2,3],[4,5,6]])\n",
        "sample_array4 = np.array([[7,8,9], [10,11,12]])\n",
        "\n",
        "#1 ([[1,2,3,7,8,9],4,5,6,10,11,12]]) print(np.concatenate ([sample_array3, sample_array4],axis=1))\n",
        "# hstackでも行方向の結合が可能 print (np.hstack ((sample_array3, sample_array4)))\n",
        "\n",
        "\"\"\"\n",
        "axis=0で列方向\n",
        "axis=1で行方向です。 下記URLを参考ください。\n",
        "https://qiita.com/shuetsu@github/items/2bf8bba233c5ecc7a0ad\n",
        "\"\"\"\n",
        "\n",
        "#axisに0を設定しているので、列方向 ([[1,2,3], [4,5,6], [7,8,9], [10,11,12]]] \n",
        "print (np.concatenate([sample_array3,sample_array4],axis=0))\n",
        "\n",
        "# vstackで列方向の結合が可能 \n",
        "print(np.vstack((sample_array3,sample_array4)))"
      ],
      "metadata": {
        "colab": {
          "base_uri": "https://localhost:8080/"
        },
        "id": "Co5m0sCUh3cP",
        "outputId": "df01f436-c40d-4c03-fe8b-737a0d8a6bd6"
      },
      "execution_count": 6,
      "outputs": [
        {
          "output_type": "stream",
          "name": "stdout",
          "text": [
            "[0 1 2 3 4 5 6 7 8 9]\n",
            "[[0 1 2 3 4]\n",
            " [5 6 7 8 9]]\n",
            "[[ 1  2  3]\n",
            " [ 4  5  6]\n",
            " [ 7  8  9]\n",
            " [10 11 12]]\n",
            "[[ 1  2  3]\n",
            " [ 4  5  6]\n",
            " [ 7  8  9]\n",
            " [10 11 12]]\n"
          ]
        }
      ]
    },
    {
      "cell_type": "markdown",
      "source": [
        "## ブロードキャスト"
      ],
      "metadata": {
        "id": "O6-DmX45h5Y6"
      }
    },
    {
      "cell_type": "code",
      "source": [
        "# データの準備\n",
        "sample_array = np.arange (10) \n",
        "print(sample_array)\n",
        "\n",
        "# 上記の配列に 「5」 を足す計算 # 要素をコピーして大きさを揃えて、配列の全ての要素に5を加算\n",
        "print(sample_array + 5 )"
      ],
      "metadata": {
        "colab": {
          "base_uri": "https://localhost:8080/"
        },
        "id": "ELBF2Mtth9up",
        "outputId": "1adcf0c9-94e1-41cf-9416-1208a9b31e02"
      },
      "execution_count": 7,
      "outputs": [
        {
          "output_type": "stream",
          "name": "stdout",
          "text": [
            "[0 1 2 3 4 5 6 7 8 9]\n",
            "[ 5  6  7  8  9 10 11 12 13 14]\n"
          ]
        }
      ]
    },
    {
      "cell_type": "markdown",
      "source": [
        "## 多次元配列の計算"
      ],
      "metadata": {
        "id": "mkAgd_82h_ZI"
      }
    },
    {
      "cell_type": "code",
      "source": [
        "n1 = np.array([1,2,3,4,5]) \n",
        "print(n1) # [12345]\n",
        "# 配列の次元数は np.ndim() 関数で取得可能 np.ndim(n1) #1 -> 1次元\n",
        "# 配列の形状取得にはshapeを使う。 タプルでかえってくる n1.shape # (5) # 変数n1の形状を取得\n",
        "\n",
        "\"\"\"\n",
        "2次元配列 (5,3)\n",
        "3次元配列 (5,5,4)\n",
        "1次元でも2次元でも、同様にタプルで結果が返される。\n",
        "\"\"\"\n",
        "\n",
        "# 3行2列の配列 (2次元の配列)を作成\n",
        "\n",
        "\"\"\"\n",
        "2次元配列は行列のことを意味します。 3×2 の配列は、最初の次元に3つ要素があり、 \n",
        "次の次元に2つの要素があるという意味。\n",
        "行 ( row) 配列の横方向 列 (column) 配列の縦方向\n",
        "\"\"\"\n",
        "n2 = np.array([[1,2], [3,4], [5,6]]) \n",
        "print(n2)\n",
        "\n",
        "\"\"\"\n",
        "[[12]\n",
        "[3 4]\n",
        "[56]]\n",
        "\"\"\"\n",
        "print (n2.ndim) # 2\n"
      ],
      "metadata": {
        "colab": {
          "base_uri": "https://localhost:8080/"
        },
        "id": "mdvGWo9siDJm",
        "outputId": "bb4efdef-dadc-4e3c-eaf7-b31315af3cea"
      },
      "execution_count": 8,
      "outputs": [
        {
          "output_type": "stream",
          "name": "stdout",
          "text": [
            "[1 2 3 4 5]\n",
            "[[1 2]\n",
            " [3 4]\n",
            " [5 6]]\n",
            "2\n"
          ]
        }
      ]
    },
    {
      "cell_type": "markdown",
      "source": [
        "## 行列とは"
      ],
      "metadata": {
        "id": "xorWR4BriDtY"
      }
    },
    {
      "cell_type": "code",
      "source": [
        "my_li1 = [-1,4]\n",
        "my_li2 = [3,2] \n",
        "my_li3 = [2,5]\n",
        "my_li4 = [0,1]\n",
        "\n",
        "my_lists = [my_li1, my_li2, my_li3, my_li4] \n",
        "my_array3 = np.array(my_lists)\n",
        "\"\"\"\n",
        "array([[1, 4],\n",
        "[ 3, 2],\n",
        "[ 2, 5],\n",
        "[0, 1]])\n",
        "\"\"\"\n",
        "my_array3"
      ],
      "metadata": {
        "colab": {
          "base_uri": "https://localhost:8080/"
        },
        "id": "VP6letutiIJ_",
        "outputId": "6c524873-6a67-44e3-d9f2-6adb765c22be"
      },
      "execution_count": 9,
      "outputs": [
        {
          "output_type": "execute_result",
          "data": {
            "text/plain": [
              "array([[-1,  4],\n",
              "       [ 3,  2],\n",
              "       [ 2,  5],\n",
              "       [ 0,  1]])"
            ]
          },
          "metadata": {},
          "execution_count": 9
        }
      ]
    },
    {
      "cell_type": "code",
      "source": [],
      "metadata": {
        "id": "cCaF9KrhpJ9e"
      },
      "execution_count": null,
      "outputs": []
    }
  ]
}