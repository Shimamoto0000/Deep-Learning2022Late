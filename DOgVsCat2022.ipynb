{
  "cells": [
    {
      "cell_type": "markdown",
      "metadata": {
        "id": "view-in-github",
        "colab_type": "text"
      },
      "source": [
        "<a href=\"https://colab.research.google.com/github/Shimamoto0000/Deep-Learning2022Late/blob/main/DOgVsCat2022.ipynb\" target=\"_parent\"><img src=\"https://colab.research.google.com/assets/colab-badge.svg\" alt=\"Open In Colab\"/></a>"
      ]
    },
    {
      "cell_type": "markdown",
      "metadata": {
        "id": "i-23-uhMs1gQ"
      },
      "source": [
        "#keras を使用してディープラーニングをやってみる\n",
        "\n",
        "##画像認識を使う\n",
        "\n"
      ]
    },
    {
      "cell_type": "markdown",
      "metadata": {
        "id": "IOC9gQfBtMYm"
      },
      "source": [
        "###ライブラリの読み込み"
      ]
    },
    {
      "cell_type": "code",
      "execution_count": 13,
      "metadata": {
        "id": "XIq8RSVftL0a"
      },
      "outputs": [],
      "source": [
        "%matplotlib inline\n",
        "from keras. applications. vgg16 import VGG16, preprocess_input, decode_predictions\n",
        "from keras. preprocessing import image \n",
        "from PIL import Image\n",
        "import matplotlib.pyplot as plt\n",
        "import numpy as np\n",
        "import sys"
      ]
    },
    {
      "cell_type": "markdown",
      "metadata": {
        "id": "XnA6JyoHteWg"
      },
      "source": [
        "### 学習済みモデルの読み込み"
      ]
    },
    {
      "cell_type": "code",
      "execution_count": 14,
      "metadata": {
        "id": "swolFeN7uOQT"
      },
      "outputs": [],
      "source": [
        "model=VGG16weights=(' imagenet' )"
      ]
    },
    {
      "cell_type": "markdown",
      "metadata": {
        "id": "LccPjTPTtzDT"
      },
      "source": [
        "###画像判定のための関数"
      ]
    },
    {
      "cell_type": "code",
      "execution_count": 15,
      "metadata": {
        "id": "Z0KKXYQNuCiQ"
      },
      "outputs": [],
      "source": [
        "def predict(filename, featuresize):\n",
        "    img = image. load_img(filename, target_size=(224, 224))\n",
        "    x = image. img_to_array(img)\n",
        "    x = np. expand_dims ( x, axis=0)\n",
        "    # 学習モデルで判定を実行\n",
        "    preds = model. predict ( preprocess_input(x))\n",
        "    results = decode_predictions ( preds, top=featuresize) [0]\n",
        "    return results\n",
        "# 関数終わり"
      ]
    },
    {
      "cell_type": "markdown",
      "metadata": {
        "id": "VNjwmGatuC6K"
      },
      "source": [
        "### 画像表示のための関数"
      ]
    },
    {
      "cell_type": "code",
      "execution_count": 16,
      "metadata": {
        "id": "FdxR3QDKuNia"
      },
      "outputs": [],
      "source": [
        "def showimg( filename, title, i):\n",
        "    im = Image. open (filename) #画像ファイルを開く\n",
        "    im_list = np.array (im) # 画像ビットデータをndarrayにする\n",
        "    plt. subplot(2, 5, i)\n",
        "    plt. title (title)\n",
        "    plt. axis(\"off\" )\n",
        "    plt. imshow(im_list)\n",
        "# 関数終わり"
      ]
    },
    {
      "cell_type": "markdown",
      "metadata": {
        "id": "RDEC4PWsuSTm"
      },
      "source": [
        "### kaggeにある画像データを利用する\n",
        "\n",
        "### 犬猫判定用の画像データ"
      ]
    },
    {
      "cell_type": "code",
      "execution_count": 17,
      "metadata": {
        "id": "fqFIZLFGu4wM",
        "colab": {
          "base_uri": "https://localhost:8080/"
        },
        "outputId": "8cd8f36a-5add-424b-be83-5058219db149"
      },
      "outputs": [
        {
          "output_type": "stream",
          "name": "stdout",
          "text": [
            "--2022-10-04 03:54:32--  https://drive.google.com/uc?export=download&confirm=t&id=1WQ9KZ-St4BqUWkqYJZYBIXQ8tT92DW_2\n",
            "Resolving drive.google.com (drive.google.com)... 142.251.18.101, 142.251.18.139, 142.251.18.113, ...\n",
            "Connecting to drive.google.com (drive.google.com)|142.251.18.101|:443... connected.\n",
            "HTTP request sent, awaiting response... 303 See Other\n",
            "Location: https://doc-0k-1s-docs.googleusercontent.com/docs/securesc/ha0ro937gcuc7l7deffksulhg5h7mbp1/3gtv19qbdmngbrbi4oda2ouv3ig2q0al/1664855625000/14334177730080324288/*/1WQ9KZ-St4BqUWkqYJZYBIXQ8tT92DW_2?e=download&uuid=5b1548aa-b252-4a8b-af1f-dfc7a048462a [following]\n",
            "Warning: wildcards not supported in HTTP.\n",
            "--2022-10-04 03:54:33--  https://doc-0k-1s-docs.googleusercontent.com/docs/securesc/ha0ro937gcuc7l7deffksulhg5h7mbp1/3gtv19qbdmngbrbi4oda2ouv3ig2q0al/1664855625000/14334177730080324288/*/1WQ9KZ-St4BqUWkqYJZYBIXQ8tT92DW_2?e=download&uuid=5b1548aa-b252-4a8b-af1f-dfc7a048462a\n",
            "Resolving doc-0k-1s-docs.googleusercontent.com (doc-0k-1s-docs.googleusercontent.com)... 108.177.119.132, 2a00:1450:4013:c00::84\n",
            "Connecting to doc-0k-1s-docs.googleusercontent.com (doc-0k-1s-docs.googleusercontent.com)|108.177.119.132|:443... connected.\n",
            "HTTP request sent, awaiting response... 200 OK\n",
            "Length: 569872234 (543M) [application/x-zip-compressed]\n",
            "Saving to: ‘train.zip’\n",
            "\n",
            "train.zip           100%[===================>] 543.47M   199MB/s    in 2.7s    \n",
            "\n",
            "2022-10-04 03:54:36 (199 MB/s) - ‘train.zip’ saved [569872234/569872234]\n",
            "\n",
            "--2022-10-04 03:54:36--  https://drive.google.com/uc?export=download&confirm=t&id=1WQ9KZ-St4BqUWkqYJZYBIXQ8tT92DW_2\n",
            "Resolving drive.google.com (drive.google.com)... 142.251.18.101, 142.251.18.139, 142.251.18.113, ...\n",
            "Connecting to drive.google.com (drive.google.com)|142.251.18.101|:443... connected.\n",
            "HTTP request sent, awaiting response... 303 See Other\n",
            "Location: https://doc-0k-1s-docs.googleusercontent.com/docs/securesc/ha0ro937gcuc7l7deffksulhg5h7mbp1/3gtv19qbdmngbrbi4oda2ouv3ig2q0al/1664855625000/14334177730080324288/*/1WQ9KZ-St4BqUWkqYJZYBIXQ8tT92DW_2?e=download&uuid=789d5ad3-7cbb-468b-99a1-284a7a9b66da [following]\n",
            "Warning: wildcards not supported in HTTP.\n",
            "--2022-10-04 03:54:36--  https://doc-0k-1s-docs.googleusercontent.com/docs/securesc/ha0ro937gcuc7l7deffksulhg5h7mbp1/3gtv19qbdmngbrbi4oda2ouv3ig2q0al/1664855625000/14334177730080324288/*/1WQ9KZ-St4BqUWkqYJZYBIXQ8tT92DW_2?e=download&uuid=789d5ad3-7cbb-468b-99a1-284a7a9b66da\n",
            "Resolving doc-0k-1s-docs.googleusercontent.com (doc-0k-1s-docs.googleusercontent.com)... 108.177.119.132, 2a00:1450:4013:c00::84\n",
            "Connecting to doc-0k-1s-docs.googleusercontent.com (doc-0k-1s-docs.googleusercontent.com)|108.177.119.132|:443... connected.\n",
            "HTTP request sent, awaiting response... 200 OK\n",
            "Length: 569872234 (543M) [application/x-zip-compressed]\n",
            "Saving to: ‘test.zip’\n",
            "\n",
            "test.zip            100%[===================>] 543.47M   287MB/s    in 1.9s    \n",
            "\n",
            "2022-10-04 03:54:39 (287 MB/s) - ‘test.zip’ saved [569872234/569872234]\n",
            "\n"
          ]
        }
      ],
      "source": [
        "#wgetでwebからファイルをダウンロードする\n",
        "#GoogleColabでコマンドを実行するときは、先頭に！をつける\n",
        "#小さいファイルをGoogleドライブからDLするときは、以下のようにURLをつけるだけでOK\n",
        "!wget --load-cookies /tmp/cookies.txt \"https://drive.google.com/uc?export=download&confirm=$(wget --quiet --save-cookies /tmp/cookies.txt --keep-session-cookies --no-check-certificate 'https://drive.google.com/uc?export=download&id=1WQ9KZ-St4BqUWkqYJZYBIXQ8tT92DW_2' -O- | sed -rn 's/.*confirm=([0-9A-Za-z_]+).*/\\1\\n/p')&id=1WQ9KZ-St4BqUWkqYJZYBIXQ8tT92DW_2\" -O train.zip && rm -rf /tmp/cookies.txt\n",
        "!wget --load-cookies /tmp/cookies.txt \"https://drive.google.com/uc?export=download&confirm=$(wget --quiet --save-cookies /tmp/cookies.txt --keep-session-cookies --no-check-certificate 'https://drive.google.com/uc?export=download&id=1WQ9KZ-St4BqUWkqYJZYBIXQ8tT92DW_2' -O- | sed -rn 's/.*confirm=([0-9A-Za-z_]+).*/\\1\\n/p')&id=1WQ9KZ-St4BqUWkqYJZYBIXQ8tT92DW_2\" -O test.zip && rm -rf /tmp/cookies.txt\n"
      ]
    },
    {
      "cell_type": "markdown",
      "metadata": {
        "id": "1zl4GlaVu1py"
      },
      "source": [
        "## Colabに自分のGoogleアカウントをマウントする\n"
      ]
    },
    {
      "cell_type": "code",
      "execution_count": 18,
      "metadata": {
        "colab": {
          "base_uri": "https://localhost:8080/"
        },
        "id": "_6c2JSfEy2pk",
        "outputId": "e0e2c510-7f31-4791-faa6-f58b32726236"
      },
      "outputs": [
        {
          "output_type": "stream",
          "name": "stdout",
          "text": [
            "Drive already mounted at /content/drive; to attempt to forcibly remount, call drive.mount(\"/content/drive\", force_remount=True).\n"
          ]
        }
      ],
      "source": [
        "#googleドライブを操作するモジュールをimport \n",
        "from google.colab import drive\n",
        "#googleドライブをマウント\n",
        "drive.mount(\"/content/drive\")"
      ]
    },
    {
      "cell_type": "markdown",
      "metadata": {
        "id": "wRjld5U-bXs7"
      },
      "source": [
        "## DLしてきたファイルをマウントしたディレクトリにコピーする"
      ]
    },
    {
      "cell_type": "code",
      "execution_count": 19,
      "metadata": {
        "colab": {
          "base_uri": "https://localhost:8080/"
        },
        "id": "eVT-1ssDbdUa",
        "outputId": "464261d5-0e06-4489-910a-2af049eb6237"
      },
      "outputs": [
        {
          "output_type": "stream",
          "name": "stdout",
          "text": [
            "/bin/bash: pwd#今いるディレクトリを表示: command not found\n",
            "/bin/bash: line 0: cd: too many arguments\n"
          ]
        }
      ],
      "source": [
        "# コピーファイルを置くディレクトリを作る\n",
        "import os\n",
        "dir_path = \"/content/drive/My Drive/2022LATE\"\n",
        "#すでにディレクトリがあってもエラーにしない\n",
        "os.makedirs(dir_path, exist_ok = True)\n",
        "!pwd#今いるディレクトリを表示\n",
        "#ファイルをコピー\n",
        "!cd train.zip \"/content/drive/My Dorive/2022LATE\"\n",
        "#tedt.zipはいったん使わないのでコピーしない"
      ]
    },
    {
      "cell_type": "code",
      "execution_count": 20,
      "metadata": {
        "id": "7KV_q8EsbiAe"
      },
      "outputs": [],
      "source": [
        "## GoogleドライブからColabへファイルをコピー"
      ]
    },
    {
      "cell_type": "code",
      "execution_count": 21,
      "metadata": {
        "colab": {
          "base_uri": "https://localhost:8080/"
        },
        "id": "ITeyW2VHdNj1",
        "outputId": "7772df35-e66c-4649-cd4e-47010e9c666b"
      },
      "outputs": [
        {
          "output_type": "stream",
          "name": "stdout",
          "text": [
            "/bin/bash: line 0: cd: /content/drive/My Drive/2022LATE/train.zip: No such file or directory\n"
          ]
        }
      ],
      "source": [
        "!cd \"/content/drive/My Drive/2022LATE/train.zip\""
      ]
    },
    {
      "cell_type": "code",
      "execution_count": 22,
      "metadata": {
        "id": "014p7QvxdUZz"
      },
      "outputs": [],
      "source": [
        "## zipファイルを解凍する"
      ]
    },
    {
      "cell_type": "code",
      "execution_count": 25,
      "metadata": {
        "colab": {
          "base_uri": "https://localhost:8080/"
        },
        "id": "PgCdgowudYfN",
        "outputId": "1c4709c6-c33b-42ad-eb07-27228babbf87"
      },
      "outputs": [
        {
          "output_type": "stream",
          "name": "stdout",
          "text": [
            "解凍完了\n"
          ]
        }
      ],
      "source": [
        "#unzipコマンドで解答\n",
        "!unzip -o -q \"train.zip\"\n",
        "print(\"解凍完了\")"
      ]
    },
    {
      "cell_type": "markdown",
      "source": [
        "## 解凍した画像を使って画像判定させる"
      ],
      "metadata": {
        "id": "2UUmCO23FSPf"
      }
    },
    {
      "cell_type": "code",
      "execution_count": null,
      "metadata": {
        "id": "-v94Kuc-dno4"
      },
      "outputs": [],
      "source": [
        "#画像を指定する変数\n",
        "file_name = \"\"\n",
        "plt.figure(figsize=(20,10))\n",
        "for i in range(1):\n",
        "  showimg(file_name, \"What' s this??\", i + 1)\n",
        "#ループ終わり\n",
        "plt.show()\n"
      ]
    },
    {
      "cell_type": "code",
      "source": [],
      "metadata": {
        "id": "0M8W7UE8IFv0"
      },
      "execution_count": null,
      "outputs": []
    }
  ],
  "metadata": {
    "colab": {
      "collapsed_sections": [],
      "provenance": [],
      "mount_file_id": "1D3aQYLTrINrL5axx78UyZ2cYwfxzsJrI",
      "authorship_tag": "ABX9TyOr38miYNudrOGZ+pWpCX/x",
      "include_colab_link": true
    },
    "kernelspec": {
      "display_name": "Python 3",
      "name": "python3"
    },
    "language_info": {
      "name": "python"
    }
  },
  "nbformat": 4,
  "nbformat_minor": 0
}