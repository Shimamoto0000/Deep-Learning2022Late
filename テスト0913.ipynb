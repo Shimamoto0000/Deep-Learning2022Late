{
  "nbformat": 4,
  "nbformat_minor": 0,
  "metadata": {
    "colab": {
      "provenance": [],
      "authorship_tag": "ABX9TyPgo906oBbMe5XR2LFGG49h",
      "include_colab_link": true
    },
    "kernelspec": {
      "name": "python3",
      "display_name": "Python 3"
    },
    "language_info": {
      "name": "python"
    }
  },
  "cells": [
    {
      "cell_type": "markdown",
      "metadata": {
        "id": "view-in-github",
        "colab_type": "text"
      },
      "source": [
        "<a href=\"https://colab.research.google.com/github/Shimamoto0000/Deep-Learning2022Late/blob/main/%E3%83%86%E3%82%B9%E3%83%880913.ipynb\" target=\"_parent\"><img src=\"https://colab.research.google.com/assets/colab-badge.svg\" alt=\"Open In Colab\"/></a>"
      ]
    },
    {
      "cell_type": "code",
      "execution_count": null,
      "metadata": {
        "id": "HUgeR1Y3ULGo"
      },
      "outputs": [],
      "source": []
    },
    {
      "cell_type": "markdown",
      "source": [
        "#リスト型とタプル型\n",
        "##リストとタプル\n"
      ],
      "metadata": {
        "id": "CsbhGpb0U95_"
      }
    },
    {
      "cell_type": "code",
      "source": [],
      "metadata": {
        "id": "Ngu17cVLVGJ8"
      },
      "execution_count": null,
      "outputs": []
    },
    {
      "cell_type": "code",
      "source": [
        "lst = [\"アップル\", \"ペン\", \"ペン\", \"パイナップル\"]\n",
        "print(lst)"
      ],
      "metadata": {
        "id": "WCqX6rxmVHL-",
        "colab": {
          "base_uri": "https://localhost:8080/"
        },
        "outputId": "846a655b-f4f1-40fa-fd88-a6c5c9aad216"
      },
      "execution_count": null,
      "outputs": [
        {
          "output_type": "stream",
          "name": "stdout",
          "text": [
            "['アップル', 'ペン', 'ペン', 'パイナップル']\n"
          ]
        }
      ]
    },
    {
      "cell_type": "code",
      "source": [],
      "metadata": {
        "id": "BNHPWvKrX1Nr"
      },
      "execution_count": null,
      "outputs": []
    }
  ]
}