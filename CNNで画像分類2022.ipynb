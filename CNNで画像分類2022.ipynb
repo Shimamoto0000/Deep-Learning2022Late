{
  "cells": [
    {
      "cell_type": "markdown",
      "metadata": {
        "id": "view-in-github",
        "colab_type": "text"
      },
      "source": [
        "<a href=\"https://colab.research.google.com/github/Shimamoto0000/Deep-Learning2022Late/blob/main/CNN%E3%81%A7%E7%94%BB%E5%83%8F%E5%88%86%E9%A1%9E2022.ipynb\" target=\"_parent\"><img src=\"https://colab.research.google.com/assets/colab-badge.svg\" alt=\"Open In Colab\"/></a>"
      ]
    },
    {
      "cell_type": "markdown",
      "metadata": {
        "id": "sN7O26T_TtAZ"
      },
      "source": [
        "# CNNで画像分類\n",
        "## CNNでCIFAR-10の画像データを訓練し、ネットなどの任意の画像を正しく分類できるかどうかを確認"
      ]
    },
    {
      "cell_type": "markdown",
      "metadata": {
        "id": "x9EeaoTUUpMi"
      },
      "source": [
        "## 学習用のライブラリを読み込む"
      ]
    },
    {
      "cell_type": "code",
      "execution_count": null,
      "metadata": {
        "id": "ZCjAsnpMTb5a"
      },
      "outputs": [],
      "source": [
        "from keras.models import Sequential\n",
        "from keras.layers import Conv2D\n",
        "from keras.layers import Flatten\n",
        "from keras.layers import Dense\n",
        "from keras.layers import MaxPooling2D\n",
        "from keras.layers import Dropout"
      ]
    },
    {
      "cell_type": "markdown",
      "metadata": {
        "id": "pjoqhz3IWgvn"
      },
      "source": [
        "## データセットと表示用のライブラリもimportする\n",
        "### データセットはtensorflow内のCIFAR-10"
      ]
    },
    {
      "cell_type": "code",
      "execution_count": null,
      "metadata": {
        "id": "C6RcXG9_VPPH"
      },
      "outputs": [],
      "source": [
        "import tensorflow as tf # CIFAR10のために読み込む\n",
        "from matplotlib import pyplot # グラフのプロット表示\n",
        "import numpy as np  # データ計算\n",
        "import cv2  # computer vison 画像を取り扱う"
      ]
    },
    {
      "cell_type": "markdown",
      "metadata": {
        "id": "lT2jY5r9X_nc"
      },
      "source": [
        "## CIFAR10を読み込む"
      ]
    },
    {
      "cell_type": "code",
      "execution_count": null,
      "metadata": {
        "id": "T1f6zvlYXOSa"
      },
      "outputs": [],
      "source": [
        "cifar = tf.keras.datasets.cifar10"
      ]
    },
    {
      "cell_type": "markdown",
      "metadata": {
        "id": "nGP8iiO9YcFv"
      },
      "source": [
        "### CIFAR10からデータを読み込んで学習用とテスト検証用に振り分ける"
      ]
    },
    {
      "cell_type": "code",
      "execution_count": null,
      "metadata": {
        "id": "lnUz8bKAYQ5P"
      },
      "outputs": [],
      "source": [
        "( x_train, y_train ), ( x_test, y_test ) = cifar.load_data( ) # データをロード"
      ]
    },
    {
      "cell_type": "markdown",
      "metadata": {
        "id": "Q39xcYA_DuY4"
      },
      "source": [
        "## CIFAR10の答え用のキーワード（ラベル）の配列を用意"
      ]
    },
    {
      "cell_type": "code",
      "execution_count": null,
      "metadata": {
        "id": "bBWSGxfODbvp"
      },
      "outputs": [],
      "source": [
        "labels = [\"飛行機\", \"自動車\", \"鳥\", \"猫\", \"鹿\", \"犬\", \"カエル\", \"馬\", \"船\", \"トラック\"]"
      ]
    },
    {
      "cell_type": "code",
      "execution_count": null,
      "metadata": {
        "id": "e5qImNz7E3Th"
      },
      "outputs": [],
      "source": [
        "x_train = x_train.astype('float32') / 255 # データの値を255で割って学習用にする\n",
        "x_test = x_test.astype('float32') / 255"
      ]
    },
    {
      "cell_type": "code",
      "execution_count": null,
      "metadata": {
        "id": "H3t5_INEFyF8"
      },
      "outputs": [],
      "source": [
        "y_train = tf.keras.utils.to_categorical( y_train, 10 )\n",
        "y_test = tf.keras.utils.to_categorical( y_test, 10 )"
      ]
    },
    {
      "cell_type": "code",
      "execution_count": null,
      "metadata": {
        "colab": {
          "base_uri": "https://localhost:8080/"
        },
        "id": "3FHvPxcjGoZ2",
        "outputId": "0b89ea90-85b6-4fe5-ce04-2db170c95a69"
      },
      "outputs": [
        {
          "name": "stdout",
          "output_type": "stream",
          "text": [
            "50000\n",
            "10000\n",
            "50000\n",
            "10000\n"
          ]
        }
      ],
      "source": [
        "# ロードしたデータの数を確認\n",
        "print( len( x_train ) )\n",
        "print( len( x_test ) )\n",
        "print( len( y_train ) )\n",
        "print( len( y_test ) )"
      ]
    },
    {
      "cell_type": "code",
      "execution_count": null,
      "metadata": {
        "id": "ooMKMvVcrdc3"
      },
      "outputs": [],
      "source": [
        "BatchNormalization = tf.keras.layers.BatchNormalization(\n",
        "    axis=-1,\n",
        "    momentum=0.99,\n",
        "    epsilon=0.001,\n",
        "    center=True,\n",
        "    scale=True,\n",
        "    beta_initializer='zeros',\n",
        "    gamma_initializer='ones',\n",
        "    moving_mean_initializer='zeros',\n",
        "    moving_variance_initializer='ones',\n",
        "    beta_regularizer=None,\n",
        "    gamma_regularizer=None,\n",
        "    beta_constraint=None,\n",
        "    gamma_constraint=None\n",
        ")"
      ]
    },
    {
      "cell_type": "code",
      "execution_count": null,
      "metadata": {
        "colab": {
          "base_uri": "https://localhost:8080/"
        },
        "id": "Ce_UEm1XW9Vv",
        "outputId": "76037774-aa47-400f-99eb-4525d5a2a69d"
      },
      "outputs": [
        {
          "name": "stdout",
          "output_type": "stream",
          "text": [
            "Model: \"sequential\"\n",
            "_________________________________________________________________\n",
            " Layer (type)                Output Shape              Param #   \n",
            "=================================================================\n",
            " conv2d (Conv2D)             (None, 32, 32, 64)        1792      \n",
            "                                                                 \n",
            " conv2d_1 (Conv2D)           (None, 32, 32, 64)        36928     \n",
            "                                                                 \n",
            " batch_normalization_1 (Batc  (None, 32, 32, 64)       256       \n",
            " hNormalization)                                                 \n",
            "                                                                 \n",
            " conv2d_2 (Conv2D)           (None, 32, 32, 64)        36928     \n",
            "                                                                 \n",
            " max_pooling2d (MaxPooling2D  (None, 16, 16, 64)       0         \n",
            " )                                                               \n",
            "                                                                 \n",
            " dropout (Dropout)           (None, 16, 16, 64)        0         \n",
            "                                                                 \n",
            " conv2d_3 (Conv2D)           (None, 16, 16, 128)       73856     \n",
            "                                                                 \n",
            " conv2d_4 (Conv2D)           (None, 16, 16, 128)       147584    \n",
            "                                                                 \n",
            " batch_normalization_2 (Batc  (None, 16, 16, 128)      512       \n",
            " hNormalization)                                                 \n",
            "                                                                 \n",
            " conv2d_5 (Conv2D)           (None, 16, 16, 128)       147584    \n",
            "                                                                 \n",
            " max_pooling2d_1 (MaxPooling  (None, 8, 8, 128)        0         \n",
            " 2D)                                                             \n",
            "                                                                 \n",
            " dropout_1 (Dropout)         (None, 8, 8, 128)         0         \n",
            "                                                                 \n",
            " conv2d_6 (Conv2D)           (None, 8, 8, 256)         295168    \n",
            "                                                                 \n",
            " conv2d_7 (Conv2D)           (None, 8, 8, 256)         590080    \n",
            "                                                                 \n",
            " batch_normalization_3 (Batc  (None, 8, 8, 256)        1024      \n",
            " hNormalization)                                                 \n",
            "                                                                 \n",
            " dropout_2 (Dropout)         (None, 8, 8, 256)         0         \n",
            "                                                                 \n",
            " conv2d_8 (Conv2D)           (None, 8, 8, 256)         590080    \n",
            "                                                                 \n",
            " conv2d_9 (Conv2D)           (None, 8, 8, 256)         590080    \n",
            "                                                                 \n",
            " conv2d_10 (Conv2D)          (None, 8, 8, 256)         590080    \n",
            "                                                                 \n",
            " batch_normalization_4 (Batc  (None, 8, 8, 256)        1024      \n",
            " hNormalization)                                                 \n",
            "                                                                 \n",
            " dropout_3 (Dropout)         (None, 8, 8, 256)         0         \n",
            "                                                                 \n",
            " conv2d_11 (Conv2D)          (None, 8, 8, 512)         1180160   \n",
            "                                                                 \n",
            " conv2d_12 (Conv2D)          (None, 8, 8, 512)         2359808   \n",
            "                                                                 \n",
            " batch_normalization_5 (Batc  (None, 8, 8, 512)        2048      \n",
            " hNormalization)                                                 \n",
            "                                                                 \n",
            " max_pooling2d_2 (MaxPooling  (None, 4, 4, 512)        0         \n",
            " 2D)                                                             \n",
            "                                                                 \n",
            " dense (Dense)               (None, 4, 4, 1024)        525312    \n",
            "                                                                 \n",
            " dropout_4 (Dropout)         (None, 4, 4, 1024)        0         \n",
            "                                                                 \n",
            " flatten (Flatten)           (None, 16384)             0         \n",
            "                                                                 \n",
            " dense_1 (Dense)             (None, 1024)              16778240  \n",
            "                                                                 \n",
            " dropout_5 (Dropout)         (None, 1024)              0         \n",
            "                                                                 \n",
            " dense_2 (Dense)             (None, 10)                10250     \n",
            "                                                                 \n",
            "=================================================================\n",
            "Total params: 23,958,794\n",
            "Trainable params: 23,956,362\n",
            "Non-trainable params: 2,432\n",
            "_________________________________________________________________\n"
          ]
        }
      ],
      "source": [
        "inputs = (32,32,3)\n",
        "\n",
        "\n",
        "model = Sequential()\n",
        "\n",
        "\n",
        "model.add(Conv2D(64,(3,3),padding = \"same\",activation= \"relu\", input_shape = inputs))\n",
        "model.add(Conv2D(64,(3,3),padding = \"same\",activation= \"relu\"))\n",
        "model.add(tf.keras.layers.BatchNormalization())\n",
        "model.add(Conv2D(64,(3,3),padding = \"same\",activation= \"relu\"))\n",
        "model.add(MaxPooling2D())\n",
        "model.add(Dropout(0.25))\n",
        "\n",
        "model.add(Conv2D(128,(3,3),padding = \"same\",activation= \"relu\"))\n",
        "model.add(Conv2D(128,(3,3),padding = \"same\",activation= \"relu\"))\n",
        "model.add(tf.keras.layers.BatchNormalization())\n",
        "model.add(Conv2D(128,(3,3),padding = \"same\",activation= \"relu\"))\n",
        "model.add(MaxPooling2D())\n",
        "model.add(Dropout(0.25))\n",
        "\n",
        "model.add(Conv2D(256,(3,3),padding = \"same\",activation= \"relu\"))\n",
        "model.add(Conv2D(256,(3,3),padding = \"same\",activation= \"relu\"))\n",
        "model.add(tf.keras.layers.BatchNormalization())\n",
        "model.add(Dropout(0.5))\n",
        "model.add(Conv2D(256,(3,3),padding = \"same\",activation= \"relu\"))\n",
        "model.add(Conv2D(256,(3,3),padding = \"same\",activation= \"relu\"))\n",
        "model.add(Conv2D(256,(3,3),padding = \"same\",activation= \"relu\"))\n",
        "model.add(tf.keras.layers.BatchNormalization())\n",
        "model.add(Dropout(0.5))\n",
        "model.add(Conv2D(512,(3,3),padding = \"same\",activation= \"relu\"))\n",
        "model.add(Conv2D(512,(3,3),padding = \"same\",activation= \"relu\"))\n",
        "model.add(tf.keras.layers.BatchNormalization())\n",
        "#GlobalAveragePooling2D\n",
        "model.add(MaxPooling2D())\n",
        "model.add(Dense(1024,activation = \"relu\"))\n",
        "model.add(Dropout(0.5))\n",
        "model.add(Flatten())\n",
        "model.add(Dense(1024,activation = \"relu\"))\n",
        "model.add(Dropout(0.5))\n",
        "model.add(Dense(10,activation = \"softmax\"))\n",
        "\n",
        "\n",
        "model.summary()"
      ]
    },
    {
      "cell_type": "code",
      "execution_count": null,
      "metadata": {
        "id": "vb8s0LN5M1Fx"
      },
      "outputs": [],
      "source": [
        "# # 層をたくさん追加するので、リストでまとめて追加する\n",
        "# num_classes = len(labels) # 分類数\n",
        "# in_shape = ( 32, 32, 3 )\n",
        "# model = Sequential( [\n",
        "#     Conv2D( 32, (3,3), padding='same', input_shape=in_shape ),\n",
        "#     #tf.keras.layers.Activation('relu'),\n",
        "#     Conv2D( 32,( 3,3 ), padding='same' ),\n",
        "#     #tf.keras.layers.Activation('relu'),\n",
        "#     MaxPooling2D( pool_size=(2,2) ),\n",
        "#     Dense(256, activation='relu'),\n",
        "#     Dropout( 0.25 ),\n",
        "\n",
        "#     Conv2D( 32, (3,3), padding='same' ),\n",
        "#     #tf.keras.layers.Activation('relu'),\n",
        "#     Conv2D( 32,( 3,3 ), padding='same' ),\n",
        "#     #tf.keras.layers.Activation('relu'),\n",
        "#     Dense(256, activation='relu'),\n",
        "#     Dropout( 0.25 ),\n",
        "\n",
        "#     Conv2D( 32, (3,3), padding='same' ),\n",
        "#     #tf.keras.layers.Activation('relu'),\n",
        "#     Conv2D( 32,( 3,3 ), padding='same' ),\n",
        "#     #tf.keras.layers.Activation('relu'),\n",
        "#     Dense(256, activation='relu'),\n",
        "#     Dropout( 0.25 ),\n",
        "\n",
        "#     Conv2D( 32, (3,3), padding='same' ),\n",
        "#     #tf.keras.layers.Activation('relu'),\n",
        "#     Conv2D( 32,( 3,3 ), padding='same' ),\n",
        "#     #tf.keras.layers.Activation('relu'),\n",
        "#     MaxPooling2D( pool_size=(2,2) ),\n",
        "#     Dense(256, activation='relu'),\n",
        "#     Dropout( 0.25 ),\n",
        "\n",
        "#     Flatten( ),\n",
        "#     Dense( 512 ),\n",
        "#     tf.keras.layers.Activation('relu'),\n",
        "#     Dropout( 0.5 ),\n",
        "#     Dense( num_classes ),\n",
        "#     tf.keras.layers.Activation('softmax'),\n",
        "# ] )"
      ]
    },
    {
      "cell_type": "code",
      "execution_count": null,
      "metadata": {
        "colab": {
          "base_uri": "https://localhost:8080/"
        },
        "id": "A9dIgyWKSUVi",
        "outputId": "25958e19-8960-497a-c365-6c372d8160e6"
      },
      "outputs": [
        {
          "name": "stdout",
          "output_type": "stream",
          "text": [
            "Looking in indexes: https://pypi.org/simple, https://us-python.pkg.dev/colab-wheels/public/simple/\n",
            "Requirement already satisfied: tensorflow-addons in /usr/local/lib/python3.7/dist-packages (0.18.0)\n",
            "Requirement already satisfied: typeguard>=2.7 in /usr/local/lib/python3.7/dist-packages (from tensorflow-addons) (2.7.1)\n",
            "Requirement already satisfied: packaging in /usr/local/lib/python3.7/dist-packages (from tensorflow-addons) (21.3)\n",
            "Requirement already satisfied: pyparsing!=3.0.5,>=2.0.2 in /usr/local/lib/python3.7/dist-packages (from packaging->tensorflow-addons) (3.0.9)\n"
          ]
        }
      ],
      "source": [
        "!pip install tensorflow-addons\n"
      ]
    },
    {
      "cell_type": "code",
      "execution_count": null,
      "metadata": {
        "id": "4kpuMlNeSo8k"
      },
      "outputs": [],
      "source": [
        "import tensorflow as tf\n",
        "import tensorflow_addons as tfa\n",
        "optimizer = tfa.optimizers. RectifiedAdam (learning_rate=0.1, weight_decay=0.001)"
      ]
    },
    {
      "cell_type": "code",
      "execution_count": null,
      "metadata": {
        "colab": {
          "base_uri": "https://localhost:8080/"
        },
        "id": "SpZR3H_S4VKe",
        "outputId": "d2cfc2e3-ad1c-4cff-9d97-ba86876eeb3c"
      },
      "outputs": [
        {
          "name": "stdout",
          "output_type": "stream",
          "text": [
            "Model: \"sequential\"\n",
            "_________________________________________________________________\n",
            " Layer (type)                Output Shape              Param #   \n",
            "=================================================================\n",
            " conv2d (Conv2D)             (None, 32, 32, 64)        1792      \n",
            "                                                                 \n",
            " conv2d_1 (Conv2D)           (None, 32, 32, 64)        36928     \n",
            "                                                                 \n",
            " batch_normalization_1 (Batc  (None, 32, 32, 64)       256       \n",
            " hNormalization)                                                 \n",
            "                                                                 \n",
            " conv2d_2 (Conv2D)           (None, 32, 32, 64)        36928     \n",
            "                                                                 \n",
            " max_pooling2d (MaxPooling2D  (None, 16, 16, 64)       0         \n",
            " )                                                               \n",
            "                                                                 \n",
            " dropout (Dropout)           (None, 16, 16, 64)        0         \n",
            "                                                                 \n",
            " conv2d_3 (Conv2D)           (None, 16, 16, 128)       73856     \n",
            "                                                                 \n",
            " conv2d_4 (Conv2D)           (None, 16, 16, 128)       147584    \n",
            "                                                                 \n",
            " batch_normalization_2 (Batc  (None, 16, 16, 128)      512       \n",
            " hNormalization)                                                 \n",
            "                                                                 \n",
            " conv2d_5 (Conv2D)           (None, 16, 16, 128)       147584    \n",
            "                                                                 \n",
            " max_pooling2d_1 (MaxPooling  (None, 8, 8, 128)        0         \n",
            " 2D)                                                             \n",
            "                                                                 \n",
            " dropout_1 (Dropout)         (None, 8, 8, 128)         0         \n",
            "                                                                 \n",
            " conv2d_6 (Conv2D)           (None, 8, 8, 256)         295168    \n",
            "                                                                 \n",
            " conv2d_7 (Conv2D)           (None, 8, 8, 256)         590080    \n",
            "                                                                 \n",
            " batch_normalization_3 (Batc  (None, 8, 8, 256)        1024      \n",
            " hNormalization)                                                 \n",
            "                                                                 \n",
            " dropout_2 (Dropout)         (None, 8, 8, 256)         0         \n",
            "                                                                 \n",
            " conv2d_8 (Conv2D)           (None, 8, 8, 256)         590080    \n",
            "                                                                 \n",
            " conv2d_9 (Conv2D)           (None, 8, 8, 256)         590080    \n",
            "                                                                 \n",
            " conv2d_10 (Conv2D)          (None, 8, 8, 256)         590080    \n",
            "                                                                 \n",
            " batch_normalization_4 (Batc  (None, 8, 8, 256)        1024      \n",
            " hNormalization)                                                 \n",
            "                                                                 \n",
            " dropout_3 (Dropout)         (None, 8, 8, 256)         0         \n",
            "                                                                 \n",
            " conv2d_11 (Conv2D)          (None, 8, 8, 512)         1180160   \n",
            "                                                                 \n",
            " conv2d_12 (Conv2D)          (None, 8, 8, 512)         2359808   \n",
            "                                                                 \n",
            " batch_normalization_5 (Batc  (None, 8, 8, 512)        2048      \n",
            " hNormalization)                                                 \n",
            "                                                                 \n",
            " max_pooling2d_2 (MaxPooling  (None, 4, 4, 512)        0         \n",
            " 2D)                                                             \n",
            "                                                                 \n",
            " dense (Dense)               (None, 4, 4, 1024)        525312    \n",
            "                                                                 \n",
            " dropout_4 (Dropout)         (None, 4, 4, 1024)        0         \n",
            "                                                                 \n",
            " flatten (Flatten)           (None, 16384)             0         \n",
            "                                                                 \n",
            " dense_1 (Dense)             (None, 1024)              16778240  \n",
            "                                                                 \n",
            " dropout_5 (Dropout)         (None, 1024)              0         \n",
            "                                                                 \n",
            " dense_2 (Dense)             (None, 10)                10250     \n",
            "                                                                 \n",
            "=================================================================\n",
            "Total params: 23,958,794\n",
            "Trainable params: 23,956,362\n",
            "Non-trainable params: 2,432\n",
            "_________________________________________________________________\n"
          ]
        },
        {
          "name": "stderr",
          "output_type": "stream",
          "text": [
            "/usr/local/lib/python3.7/dist-packages/keras/optimizers/optimizer_v2/adam.py:110: UserWarning: The `lr` argument is deprecated, use `learning_rate` instead.\n",
            "  super(Adam, self).__init__(name, **kwargs)\n"
          ]
        }
      ],
      "source": [
        "import keras \n",
        "model.compile( \n",
        "    loss='categorical_crossentropy', # 損失の計算法\n",
        "    optimizer = keras.optimizers.Adam(lr=0.001, beta_1=0.9, beta_2=0.999, epsilon=None, decay=0.0, amsgrad=False), # 最適化の方法\n",
        "    metrics=['accuracy'] # 評価の基準、計算法（accuracy=精度）\n",
        " )\n",
        "model.summary()"
      ]
    },
    {
      "cell_type": "markdown",
      "metadata": {
        "id": "7qvNLQ5f2HiK"
      },
      "source": [
        "## 組み立てた学習モデルで訓練する"
      ]
    },
    {
      "cell_type": "code",
      "execution_count": null,
      "metadata": {
        "colab": {
          "background_save": true,
          "base_uri": "https://localhost:8080/"
        },
        "id": "JlMBiU4iRRTN",
        "outputId": "6829339d-6aa7-4de9-f767-bbc8dde57ef3"
      },
      "outputs": [
        {
          "name": "stdout",
          "output_type": "stream",
          "text": [
            "Epoch 1/100\n",
            "391/391 [==============================] - 41s 90ms/step - loss: 1.9753 - accuracy: 0.3280 - val_loss: 2.5328 - val_accuracy: 0.1960\n",
            "Epoch 2/100\n",
            "391/391 [==============================] - 32s 81ms/step - loss: 1.3387 - accuracy: 0.5165 - val_loss: 1.3060 - val_accuracy: 0.5578\n",
            "Epoch 3/100\n",
            "391/391 [==============================] - 32s 83ms/step - loss: 1.0941 - accuracy: 0.6115 - val_loss: 1.2264 - val_accuracy: 0.5944\n",
            "Epoch 4/100\n",
            "391/391 [==============================] - 32s 82ms/step - loss: 0.9541 - accuracy: 0.6651 - val_loss: 1.0273 - val_accuracy: 0.6562\n",
            "Epoch 5/100\n",
            "391/391 [==============================] - 32s 82ms/step - loss: 0.8519 - accuracy: 0.7031 - val_loss: 1.0115 - val_accuracy: 0.6525\n",
            "Epoch 6/100\n",
            "391/391 [==============================] - 32s 82ms/step - loss: 0.8626 - accuracy: 0.7096 - val_loss: 2.1601 - val_accuracy: 0.3800\n",
            "Epoch 7/100\n",
            "391/391 [==============================] - 32s 82ms/step - loss: 0.7936 - accuracy: 0.7293 - val_loss: 0.8792 - val_accuracy: 0.7108\n",
            "Epoch 8/100\n",
            "391/391 [==============================] - 32s 82ms/step - loss: 0.7794 - accuracy: 0.7365 - val_loss: 1.0621 - val_accuracy: 0.6618\n",
            "Epoch 9/100\n",
            "391/391 [==============================] - 32s 82ms/step - loss: 0.7119 - accuracy: 0.7583 - val_loss: 0.7404 - val_accuracy: 0.7491\n",
            "Epoch 10/100\n",
            "391/391 [==============================] - 32s 82ms/step - loss: 0.6174 - accuracy: 0.7907 - val_loss: 0.7738 - val_accuracy: 0.7559\n",
            "Epoch 11/100\n",
            "391/391 [==============================] - 32s 82ms/step - loss: 0.6126 - accuracy: 0.7934 - val_loss: 1.2178 - val_accuracy: 0.6412\n",
            "Epoch 12/100\n",
            "391/391 [==============================] - 32s 82ms/step - loss: 0.5558 - accuracy: 0.8147 - val_loss: 0.8122 - val_accuracy: 0.7496\n",
            "Epoch 13/100\n",
            "391/391 [==============================] - 32s 82ms/step - loss: 0.5024 - accuracy: 0.8315 - val_loss: 0.5906 - val_accuracy: 0.7998\n",
            "Epoch 14/100\n",
            "391/391 [==============================] - 32s 82ms/step - loss: 0.5500 - accuracy: 0.8204 - val_loss: 1.5362 - val_accuracy: 0.5799\n",
            "Epoch 15/100\n",
            "391/391 [==============================] - 32s 82ms/step - loss: 0.8465 - accuracy: 0.7194 - val_loss: 0.9447 - val_accuracy: 0.6908\n",
            "Epoch 16/100\n",
            "391/391 [==============================] - 32s 82ms/step - loss: 0.5673 - accuracy: 0.8108 - val_loss: 2.1053 - val_accuracy: 0.4354\n",
            "Epoch 17/100\n",
            "391/391 [==============================] - 32s 82ms/step - loss: 0.6254 - accuracy: 0.7915 - val_loss: 1.2368 - val_accuracy: 0.5913\n",
            "Epoch 18/100\n",
            "391/391 [==============================] - 32s 82ms/step - loss: 0.5575 - accuracy: 0.8132 - val_loss: 0.5741 - val_accuracy: 0.8096\n",
            "Epoch 19/100\n",
            "391/391 [==============================] - 32s 82ms/step - loss: 0.4627 - accuracy: 0.8457 - val_loss: 0.6713 - val_accuracy: 0.7897\n",
            "Epoch 20/100\n",
            "391/391 [==============================] - 32s 82ms/step - loss: 0.4157 - accuracy: 0.8588 - val_loss: 0.5556 - val_accuracy: 0.8172\n",
            "Epoch 21/100\n",
            "391/391 [==============================] - 32s 82ms/step - loss: 0.4408 - accuracy: 0.8533 - val_loss: 0.7350 - val_accuracy: 0.7739\n",
            "Epoch 22/100\n",
            "391/391 [==============================] - 32s 82ms/step - loss: 0.8415 - accuracy: 0.7358 - val_loss: 0.7520 - val_accuracy: 0.7679\n",
            "Epoch 23/100\n",
            "391/391 [==============================] - 32s 82ms/step - loss: 0.4810 - accuracy: 0.8391 - val_loss: 0.6199 - val_accuracy: 0.8027\n",
            "Epoch 24/100\n",
            "391/391 [==============================] - 32s 82ms/step - loss: 0.3881 - accuracy: 0.8696 - val_loss: 0.5572 - val_accuracy: 0.8207\n",
            "Epoch 25/100\n",
            "391/391 [==============================] - 32s 82ms/step - loss: 0.3504 - accuracy: 0.8828 - val_loss: 1.0282 - val_accuracy: 0.8487\n",
            "Epoch 26/100\n",
            "391/391 [==============================] - 32s 82ms/step - loss: 0.3359 - accuracy: 0.8881 - val_loss: 0.5169 - val_accuracy: 0.8464\n",
            "Epoch 27/100\n",
            "391/391 [==============================] - 32s 82ms/step - loss: 0.3126 - accuracy: 0.8968 - val_loss: 0.8851 - val_accuracy: 0.7532\n",
            "Epoch 28/100\n",
            "391/391 [==============================] - 32s 82ms/step - loss: 0.3236 - accuracy: 0.8915 - val_loss: 13.7919 - val_accuracy: 0.8277\n",
            "Epoch 29/100\n",
            "391/391 [==============================] - 32s 82ms/step - loss: 1.4355 - accuracy: 0.5148 - val_loss: 1.8389 - val_accuracy: 0.4054\n",
            "Epoch 30/100\n",
            "391/391 [==============================] - 32s 82ms/step - loss: 1.1790 - accuracy: 0.5836 - val_loss: 1.4648 - val_accuracy: 0.5094\n",
            "Epoch 31/100\n",
            "391/391 [==============================] - 32s 82ms/step - loss: 0.8496 - accuracy: 0.7084 - val_loss: 0.8044 - val_accuracy: 0.7339\n",
            "Epoch 32/100\n",
            "391/391 [==============================] - 32s 82ms/step - loss: 0.5988 - accuracy: 0.7970 - val_loss: 0.6159 - val_accuracy: 0.7942\n",
            "Epoch 33/100\n",
            "391/391 [==============================] - 32s 82ms/step - loss: 0.4800 - accuracy: 0.8374 - val_loss: 0.5629 - val_accuracy: 0.8203\n",
            "Epoch 34/100\n",
            "391/391 [==============================] - 32s 82ms/step - loss: 0.4097 - accuracy: 0.8612 - val_loss: 2.8798 - val_accuracy: 0.8152\n",
            "Epoch 35/100\n",
            "391/391 [==============================] - 32s 82ms/step - loss: 0.3663 - accuracy: 0.8761 - val_loss: 0.7112 - val_accuracy: 0.8260\n",
            "Epoch 36/100\n",
            "391/391 [==============================] - 32s 82ms/step - loss: 0.3319 - accuracy: 0.8875 - val_loss: 3.9517 - val_accuracy: 0.8387\n",
            "Epoch 37/100\n",
            "391/391 [==============================] - 32s 82ms/step - loss: 0.3078 - accuracy: 0.8949 - val_loss: 0.5922 - val_accuracy: 0.8275\n",
            "Epoch 38/100\n",
            "391/391 [==============================] - 32s 82ms/step - loss: 0.2889 - accuracy: 0.9037 - val_loss: 1.1965 - val_accuracy: 0.7957\n",
            "Epoch 39/100\n",
            "391/391 [==============================] - 32s 82ms/step - loss: 0.2692 - accuracy: 0.9084 - val_loss: 1.5099 - val_accuracy: 0.8468\n",
            "Epoch 40/100\n",
            "391/391 [==============================] - 32s 82ms/step - loss: 0.2498 - accuracy: 0.9151 - val_loss: 0.5344 - val_accuracy: 0.8467\n",
            "Epoch 41/100\n",
            "391/391 [==============================] - 32s 82ms/step - loss: 0.2446 - accuracy: 0.9167 - val_loss: 0.5987 - val_accuracy: 0.8531\n",
            "Epoch 42/100\n",
            "391/391 [==============================] - 32s 82ms/step - loss: 0.2360 - accuracy: 0.9202 - val_loss: 147.8136 - val_accuracy: 0.8249\n",
            "Epoch 43/100\n",
            "391/391 [==============================] - 32s 82ms/step - loss: 0.2191 - accuracy: 0.9241 - val_loss: 4.8141 - val_accuracy: 0.8478\n",
            "Epoch 44/100\n",
            "391/391 [==============================] - 32s 82ms/step - loss: 0.2149 - accuracy: 0.9270 - val_loss: 4.4604 - val_accuracy: 0.8578\n",
            "Epoch 45/100\n",
            "391/391 [==============================] - 32s 82ms/step - loss: 0.2072 - accuracy: 0.9310 - val_loss: 408.9572 - val_accuracy: 0.8500\n",
            "Epoch 46/100\n",
            "391/391 [==============================] - 32s 82ms/step - loss: 0.1906 - accuracy: 0.9359 - val_loss: 7.3824 - val_accuracy: 0.8576\n",
            "Epoch 47/100\n",
            "391/391 [==============================] - 32s 83ms/step - loss: 0.1825 - accuracy: 0.9386 - val_loss: 0.7688 - val_accuracy: 0.8394\n",
            "Epoch 48/100\n",
            "391/391 [==============================] - 32s 82ms/step - loss: 0.1798 - accuracy: 0.9395 - val_loss: 1.4368 - val_accuracy: 0.8623\n",
            "Epoch 49/100\n",
            "391/391 [==============================] - 32s 82ms/step - loss: 0.1704 - accuracy: 0.9427 - val_loss: 35.1652 - val_accuracy: 0.8494\n",
            "Epoch 50/100\n",
            "391/391 [==============================] - 32s 83ms/step - loss: 0.1650 - accuracy: 0.9433 - val_loss: 7.9209 - val_accuracy: 0.8526\n",
            "Epoch 51/100\n",
            "391/391 [==============================] - 32s 83ms/step - loss: 0.1532 - accuracy: 0.9488 - val_loss: 2.6344 - val_accuracy: 0.8581\n",
            "Epoch 52/100\n",
            "391/391 [==============================] - 32s 82ms/step - loss: 0.1558 - accuracy: 0.9478 - val_loss: 5.7076 - val_accuracy: 0.8574\n",
            "Epoch 53/100\n",
            "391/391 [==============================] - 32s 82ms/step - loss: 0.1459 - accuracy: 0.9522 - val_loss: 5.7025 - val_accuracy: 0.8531\n",
            "Epoch 54/100\n",
            "391/391 [==============================] - 32s 82ms/step - loss: 0.1476 - accuracy: 0.9518 - val_loss: 0.5264 - val_accuracy: 0.8666\n",
            "Epoch 55/100\n",
            "391/391 [==============================] - 32s 82ms/step - loss: 0.1291 - accuracy: 0.9566 - val_loss: 2.1668 - val_accuracy: 0.8561\n",
            "Epoch 56/100\n",
            "391/391 [==============================] - 32s 82ms/step - loss: 0.1222 - accuracy: 0.9597 - val_loss: 0.5512 - val_accuracy: 0.8621\n",
            "Epoch 57/100\n",
            "391/391 [==============================] - 32s 82ms/step - loss: 0.1322 - accuracy: 0.9568 - val_loss: 1.5852 - val_accuracy: 0.8680\n",
            "Epoch 58/100\n",
            "391/391 [==============================] - 32s 82ms/step - loss: 0.1185 - accuracy: 0.9605 - val_loss: 0.6764 - val_accuracy: 0.8639\n",
            "Epoch 59/100\n",
            "391/391 [==============================] - 32s 82ms/step - loss: 0.1151 - accuracy: 0.9615 - val_loss: 3.2157 - val_accuracy: 0.8626\n",
            "Epoch 60/100\n",
            "391/391 [==============================] - 32s 82ms/step - loss: 0.1125 - accuracy: 0.9620 - val_loss: 1.5598 - val_accuracy: 0.8641\n",
            "Epoch 61/100\n",
            "391/391 [==============================] - 32s 82ms/step - loss: 0.1096 - accuracy: 0.9642 - val_loss: 75.2277 - val_accuracy: 0.8463\n",
            "Epoch 62/100\n",
            "391/391 [==============================] - 32s 83ms/step - loss: 0.1078 - accuracy: 0.9645 - val_loss: 0.6057 - val_accuracy: 0.8548\n",
            "Epoch 63/100\n",
            "391/391 [==============================] - 32s 83ms/step - loss: 0.1029 - accuracy: 0.9660 - val_loss: 0.6643 - val_accuracy: 0.8552\n",
            "Epoch 64/100\n",
            "391/391 [==============================] - 32s 82ms/step - loss: 0.1029 - accuracy: 0.9659 - val_loss: 2.8793 - val_accuracy: 0.8629\n",
            "Epoch 65/100\n",
            "391/391 [==============================] - 32s 82ms/step - loss: 0.0937 - accuracy: 0.9689 - val_loss: 0.9352 - val_accuracy: 0.8593\n",
            "Epoch 66/100\n",
            "391/391 [==============================] - 32s 82ms/step - loss: 0.0950 - accuracy: 0.9695 - val_loss: 0.8014 - val_accuracy: 0.8603\n",
            "Epoch 67/100\n",
            "391/391 [==============================] - 32s 82ms/step - loss: 0.0930 - accuracy: 0.9699 - val_loss: 6.9090 - val_accuracy: 0.8447\n",
            "Epoch 68/100\n",
            "391/391 [==============================] - 32s 83ms/step - loss: 0.0884 - accuracy: 0.9704 - val_loss: 0.6715 - val_accuracy: 0.8612\n",
            "Epoch 69/100\n",
            "391/391 [==============================] - 32s 83ms/step - loss: 0.0892 - accuracy: 0.9707 - val_loss: 0.6728 - val_accuracy: 0.8514\n",
            "Epoch 70/100\n",
            "391/391 [==============================] - 32s 82ms/step - loss: 0.0871 - accuracy: 0.9717 - val_loss: 0.5918 - val_accuracy: 0.8742\n",
            "Epoch 71/100\n",
            "391/391 [==============================] - 32s 82ms/step - loss: 0.0825 - accuracy: 0.9729 - val_loss: 7.6565 - val_accuracy: 0.8695\n",
            "Epoch 72/100\n",
            "391/391 [==============================] - 32s 82ms/step - loss: 0.0799 - accuracy: 0.9743 - val_loss: 0.6555 - val_accuracy: 0.8692\n",
            "Epoch 73/100\n",
            "391/391 [==============================] - 32s 82ms/step - loss: 0.0838 - accuracy: 0.9727 - val_loss: 0.6420 - val_accuracy: 0.8643\n",
            "Epoch 74/100\n",
            "391/391 [==============================] - 32s 82ms/step - loss: 0.0790 - accuracy: 0.9739 - val_loss: 1.0825 - val_accuracy: 0.8696\n",
            "Epoch 75/100\n",
            "391/391 [==============================] - 32s 83ms/step - loss: 0.0710 - accuracy: 0.9770 - val_loss: 0.6399 - val_accuracy: 0.8712\n",
            "Epoch 76/100\n",
            "391/391 [==============================] - 32s 83ms/step - loss: 0.0716 - accuracy: 0.9771 - val_loss: 11.6749 - val_accuracy: 0.8578\n",
            "Epoch 77/100\n",
            "391/391 [==============================] - 32s 83ms/step - loss: 0.0739 - accuracy: 0.9761 - val_loss: 30.5600 - val_accuracy: 0.8459\n",
            "Epoch 78/100\n",
            "391/391 [==============================] - 32s 83ms/step - loss: 0.0759 - accuracy: 0.9757 - val_loss: 30.9415 - val_accuracy: 0.8726\n",
            "Epoch 79/100\n",
            "391/391 [==============================] - 32s 83ms/step - loss: 0.0806 - accuracy: 0.9740 - val_loss: 4.6993 - val_accuracy: 0.8676\n",
            "Epoch 80/100\n",
            "391/391 [==============================] - 33s 83ms/step - loss: 0.0968 - accuracy: 0.9686 - val_loss: 0.5689 - val_accuracy: 0.8668\n",
            "Epoch 81/100\n",
            "391/391 [==============================] - 33s 83ms/step - loss: 0.0847 - accuracy: 0.9736 - val_loss: 0.6501 - val_accuracy: 0.8633\n",
            "Epoch 82/100\n",
            "391/391 [==============================] - 33s 83ms/step - loss: 0.0643 - accuracy: 0.9797 - val_loss: 94.8665 - val_accuracy: 0.8712\n",
            "Epoch 83/100\n",
            "391/391 [==============================] - 32s 83ms/step - loss: 0.0595 - accuracy: 0.9812 - val_loss: 12.0664 - val_accuracy: 0.8686\n",
            "Epoch 84/100\n",
            "391/391 [==============================] - 32s 83ms/step - loss: 0.0599 - accuracy: 0.9813 - val_loss: 2.2025 - val_accuracy: 0.8647\n",
            "Epoch 85/100\n",
            "391/391 [==============================] - 32s 83ms/step - loss: 0.0607 - accuracy: 0.9803 - val_loss: 29.7343 - val_accuracy: 0.8697\n",
            "Epoch 86/100\n",
            "391/391 [==============================] - 33s 83ms/step - loss: 0.0576 - accuracy: 0.9823 - val_loss: 1.5730 - val_accuracy: 0.8641\n",
            "Epoch 87/100\n",
            "391/391 [==============================] - 32s 83ms/step - loss: 0.0599 - accuracy: 0.9806 - val_loss: 36.8145 - val_accuracy: 0.8656\n",
            "Epoch 88/100\n",
            "391/391 [==============================] - 32s 83ms/step - loss: 0.0653 - accuracy: 0.9793 - val_loss: 82.1852 - val_accuracy: 0.8698\n",
            "Epoch 89/100\n",
            "391/391 [==============================] - 32s 83ms/step - loss: 0.0606 - accuracy: 0.9807 - val_loss: 6.4844 - val_accuracy: 0.8708\n",
            "Epoch 90/100\n",
            "391/391 [==============================] - 32s 83ms/step - loss: 0.0601 - accuracy: 0.9809 - val_loss: 0.6197 - val_accuracy: 0.8664\n",
            "Epoch 91/100\n",
            "391/391 [==============================] - 32s 83ms/step - loss: 0.0564 - accuracy: 0.9823 - val_loss: 0.7551 - val_accuracy: 0.8612\n",
            "Epoch 92/100\n",
            "391/391 [==============================] - 32s 83ms/step - loss: 0.0749 - accuracy: 0.9774 - val_loss: 0.5971 - val_accuracy: 0.8729\n",
            "Epoch 93/100\n",
            "391/391 [==============================] - 32s 83ms/step - loss: 0.0596 - accuracy: 0.9812 - val_loss: 0.6056 - val_accuracy: 0.8691\n",
            "Epoch 94/100\n",
            "391/391 [==============================] - 32s 83ms/step - loss: 0.0550 - accuracy: 0.9820 - val_loss: 0.6763 - val_accuracy: 0.8689\n",
            "Epoch 95/100\n",
            "391/391 [==============================] - 32s 82ms/step - loss: 0.0534 - accuracy: 0.9831 - val_loss: 0.6700 - val_accuracy: 0.8686\n",
            "Epoch 96/100\n",
            "391/391 [==============================] - 32s 83ms/step - loss: 0.0518 - accuracy: 0.9840 - val_loss: 1.5745 - val_accuracy: 0.8699\n",
            "Epoch 97/100\n",
            "391/391 [==============================] - 32s 83ms/step - loss: 0.0526 - accuracy: 0.9839 - val_loss: 0.6448 - val_accuracy: 0.8697\n",
            "Epoch 98/100\n",
            "391/391 [==============================] - 32s 83ms/step - loss: 0.0572 - accuracy: 0.9823 - val_loss: 0.6137 - val_accuracy: 0.8736\n",
            "Epoch 99/100\n",
            "391/391 [==============================] - 32s 83ms/step - loss: 0.0525 - accuracy: 0.9832 - val_loss: 5.6975 - val_accuracy: 0.8686\n",
            "Epoch 100/100\n",
            "391/391 [==============================] - 32s 83ms/step - loss: 0.0517 - accuracy: 0.9844 - val_loss: 0.6185 - val_accuracy: 0.8762\n"
          ]
        }
      ],
      "source": [
        "fit = model.fit(\n",
        "    x_train, y_train, # 学習用問題データとその正解（ラベル）\n",
        "    batch_size = 128, # まとめて学習する量\n",
        "    epochs=100, # 学習を繰り返す回数\n",
        "    verbose=1, # ログ出力のフラグ（標準出力に出力する）\n",
        "    validation_data = (x_test, \n",
        "                       y_test) # 学習中の検証チェック用データ\n",
        ")"
      ]
    },
    {
      "cell_type": "markdown",
      "metadata": {
        "id": "eMWGIuKiJIQL"
      },
      "source": [
        "## 訓練の状況を確認する"
      ]
    },
    {
      "cell_type": "code",
      "execution_count": null,
      "metadata": {
        "colab": {
          "background_save": true
        },
        "id": "zMtAidxN4DeJ"
      },
      "outputs": [],
      "source": [
        "# 訓練の精度の経過を取得\n",
        "acc = fit.history['accuracy']\n",
        "# 訓練の損失の経過を取得\n",
        "loss = fit.history['loss']\n",
        "# 訓練の回数を算出\n",
        "epochs = range(len(acc))"
      ]
    },
    {
      "cell_type": "code",
      "execution_count": null,
      "metadata": {
        "colab": {
          "background_save": true
        },
        "id": "_N-uIjSULEl-",
        "outputId": "0c8484cf-8282-4d64-81c6-ad2304cd166f"
      },
      "outputs": [
        {
          "data": {
            "image/png": "[encoded data removed]",
            "text/plain": [
              "<Figure size 432x288 with 1 Axes>"
            ]
          },
          "metadata": {},
          "output_type": "display_data"
        },
        {
          "data": {
            "text/plain": [
              "<Figure size 432x288 with 0 Axes>"
            ]
          },
          "metadata": {},
          "output_type": "display_data"
        }
      ],
      "source": [
        "# accとlossの値をプロットしていく\n",
        "# 精度(acc)を青いドット(bo)でプロット\n",
        "pyplot.plot( epochs, acc, 'bo', label='Training accuracy' )\n",
        "# 損失(loss)を青線(b)でプロット\n",
        "pyplot.plot( epochs, loss, 'b', label='Training loss' )\n",
        "# 凡例をつける\n",
        "pyplot.legend( )\n",
        "# 描画領域を設定\n",
        "pyplot.figure( )\n",
        "pyplot.show( ) # 表示"
      ]
    },
    {
      "cell_type": "markdown",
      "metadata": {
        "id": "umJwVv4iRRhl"
      },
      "source": [
        "## 訓練した学習モデルで検証する"
      ]
    },
    {
      "cell_type": "code",
      "execution_count": null,
      "metadata": {
        "colab": {
          "background_save": true
        },
        "id": "Del7jeIwNJoQ",
        "outputId": "d43d0887-8718-4adf-f308-c8fb9aa3c79f"
      },
      "outputs": [
        {
          "name": "stdout",
          "output_type": "stream",
          "text": [
            "313/313 - 3s - loss: 0.6185 - accuracy: 0.8762 - 3s/epoch - 9ms/step\n"
          ]
        },
        {
          "data": {
            "text/plain": [
              "[0.6184622049331665, 0.8762000203132629]"
            ]
          },
          "execution_count": 18,
          "metadata": {},
          "output_type": "execute_result"
        }
      ],
      "source": [
        "# コンパイルで指定したmetrics = accuracy で評価する\n",
        "model.evaluate( x_test, y_test, verbose=2 )"
      ]
    },
    {
      "cell_type": "code",
      "execution_count": null,
      "metadata": {
        "colab": {
          "background_save": true
        },
        "id": "uavQUO2hR7MN"
      },
      "outputs": [],
      "source": [
        "probability_model = Sequential([\n",
        "                                model,\n",
        "                                tf.keras.layers.Softmax( )\n",
        "                                ])"
      ]
    },
    {
      "cell_type": "code",
      "execution_count": null,
      "metadata": {
        "colab": {
          "background_save": true
        },
        "id": "sDj9iOGnTLZA",
        "outputId": "8ae82d35-a497-4fb1-e623-c305006ff179"
      },
      "outputs": [
        {
          "name": "stdout",
          "output_type": "stream",
          "text": [
            "tf.Tensor(\n",
            "[[0.0853411  0.08534081 0.08534327 0.23191577 0.08534022 0.08534163\n",
            "  0.0853559  0.08534016 0.08534093 0.0853402 ]\n",
            " [0.0853373  0.08533701 0.08533686 0.08533689 0.08533686 0.08533686\n",
            "  0.08533686 0.08533686 0.23196739 0.08533706]\n",
            " [0.085398   0.08542214 0.08535735 0.08537465 0.08535736 0.08535791\n",
            "  0.08536008 0.0853574  0.23164959 0.08536558]\n",
            " [0.23163268 0.08536569 0.08536696 0.08538162 0.08539932 0.08535849\n",
            "  0.08535901 0.08535866 0.08539877 0.08537883]\n",
            " [0.08533675 0.08533675 0.08533675 0.08533675 0.08533675 0.08533675\n",
            "  0.23196931 0.08533675 0.08533675 0.08533675]\n",
            " [0.08533683 0.08533683 0.08533684 0.08533741 0.08533685 0.08533683\n",
            "  0.23196796 0.08533683 0.08533683 0.08533683]\n",
            " [0.08533699 0.23196569 0.08533697 0.08533701 0.08533698 0.08533698\n",
            "  0.08533698 0.08533697 0.08533698 0.08533846]\n",
            " [0.08541753 0.08541881 0.08546589 0.085744   0.0855736  0.08541777\n",
            "  0.23071203 0.08541637 0.08541614 0.0854178 ]], shape=(8, 10), dtype=float32)\n",
            "['猫', '船', '船', '飛行機', 'カエル', 'カエル', '自動車', 'カエル']\n"
          ]
        },
        {
          "data": {
            "image/png": "[encoded data removed]",
            "text/plain": [
              "<Figure size 720x720 with 8 Axes>"
            ]
          },
          "metadata": {},
          "output_type": "display_data"
        }
      ],
      "source": [
        "tests = x_test[:8] # 一部を切り抜く\n",
        "# 切り抜いたデータをプロットで表示\n",
        "pyplot.figure( figsize=(10, 10) )\n",
        "for i in range(0, len(tests)):\n",
        "  pyplot.subplot( 1, len(tests), i+1 )\n",
        "  pyplot.imshow( tests[i], cmap='gray' )\n",
        "r = probability_model( tests ) # 分類結果を変数rに代入\n",
        "print(r)\n",
        "result = [ ]\n",
        "# ループしながらrに追加していく\n",
        "for i in np.argmax( r.numpy( ), axis=1 ):\n",
        "  result.append( labels[i] )\n",
        "print(result)"
      ]
    },
    {
      "cell_type": "markdown",
      "metadata": {
        "id": "GHA-fHnfYtYi"
      },
      "source": [
        "# 画像をアップロードする処理を作る"
      ]
    },
    {
      "cell_type": "code",
      "execution_count": null,
      "metadata": {
        "id": "HtAUCZ-QVL6Y"
      },
      "outputs": [],
      "source": [
        "from google.colab import files\n",
        "r = files.upload( ) # ファイルをアップロード（ボタンが出る）\n",
        "if len(r) == 0: # もしデータが空だったら、失敗とみなす\n",
        "  print(\"ファイルをアップロードできませんでした\")\n",
        "else: # 成功ルート\n",
        "  filename = list(r.keys())[0] # データのキーの先頭をファイル名として取得\n",
        "  img = cv2.imread(filename) # 画像データを読み込む\n",
        "  import os\n",
        "  os.remove(filename) # ファイルを掃除\n",
        "  # 画像データの色情報の方式を変換 ComputerVisionのBGRからRGBに変換\n",
        "  img = cv2.cvtColor( img, cv2.COLOR_BGR2RGB ) # 変換してimgを上書き\n",
        "  img = cv2.resize( img, (32,32) ) # リサイズしてimgを上書き\n",
        "  pyplot.imshow(img) # プロットに設定\n",
        "  pyplot.axis(\"off\")  # 罫線をオフ\n",
        "  #pyplot.show( ) # 画像を表示\n"
      ]
    },
    {
      "cell_type": "markdown",
      "metadata": {
        "id": "3brVezpgLnp9"
      },
      "source": [
        "## アップロードした画像を分類させる\n",
        "\n"
      ]
    },
    {
      "cell_type": "code",
      "execution_count": null,
      "metadata": {
        "id": "7QAEvXAALyRh"
      },
      "outputs": [],
      "source": [
        "# 画像データを学習データと同じ形に整形する\n",
        "img = img.reshape(1, 32, 32, 3) \n",
        "ans = probability_model( [img] ) # 学習済みモデルで判定\n",
        "print( ans ) # 分類結果を表示"
      ]
    },
    {
      "cell_type": "markdown",
      "metadata": {
        "id": "Y4ZchffmNAe-"
      },
      "source": [
        "### labels = [\"飛行機\", \"自動車\", \"鳥\", \"猫\", \"鹿\", \"犬\", \"カエル\", \"馬\", \"船\", \"トラック\"]"
      ]
    },
    {
      "cell_type": "markdown",
      "metadata": {
        "id": "msJp57OANg1Q"
      },
      "source": [
        "### 一番高い可能性のインデックスをキーワードに変換して表示"
      ]
    },
    {
      "cell_type": "code",
      "execution_count": null,
      "metadata": {
        "id": "A2ZIBGDVM4cG"
      },
      "outputs": [],
      "source": [
        "answer_idx = int(np.argmax( ans, axis=1 ))\n",
        "print( answer_idx )\n",
        "answer_word = labels[ answer_idx ]\n",
        "print( \"この画像は\" + answer_word + \"です\" )"
      ]
    },
    {
      "cell_type": "code",
      "execution_count": null,
      "metadata": {
        "id": "c6Z78W4kODiG"
      },
      "outputs": [],
      "source": []
    }
  ],
  "metadata": {
    "accelerator": "GPU",
    "colab": {
      "provenance": [],
      "include_colab_link": true
    },
    "gpuClass": "standard",
    "kernelspec": {
      "display_name": "Python 3",
      "name": "python3"
    },
    "language_info": {
      "name": "python"
    }
  },
  "nbformat": 4,
  "nbformat_minor": 0
}